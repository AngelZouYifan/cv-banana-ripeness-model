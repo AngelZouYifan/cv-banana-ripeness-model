{
  "cells": [
    {
      "cell_type": "markdown",
      "metadata": {
        "id": "view-in-github",
        "colab_type": "text"
      },
      "source": [
        "<a href=\"https://colab.research.google.com/github/AngelZouYifan/cv-banana-ripeness-model/blob/main/banana_ripeness_model.ipynb\" target=\"_parent\"><img src=\"https://colab.research.google.com/assets/colab-badge.svg\" alt=\"Open In Colab\"/></a>"
      ]
    },
    {
      "cell_type": "code",
      "execution_count": null,
      "metadata": {
        "id": "RqULDhgz6nEl"
      },
      "outputs": [],
      "source": [
        "# Import Dependencies\n",
        "import matplotlib.pyplot as plt\n",
        "import numpy as np\n",
        "import os\n",
        "import tensorflow as tf\n",
        "import keras\n",
        "from keras.layers import Dense, GlobalAveragePooling2D, Dropout\n",
        "from keras.applications.mobilenet_v2 import preprocess_input, MobileNetV2\n",
        "from keras.preprocessing.image import ImageDataGenerator\n",
        "from keras.models import Model\n",
        "from tensorflow.keras.optimizers import Adam\n",
        "from sklearn.utils import class_weight "
      ]
    },
    {
      "cell_type": "code",
      "execution_count": null,
      "metadata": {
        "id": "uTIMECh4C50K"
      },
      "outputs": [],
      "source": [
        "# Properties and hyperparameters\n",
        "CLASSES = [' unripe', ' freshunripe', ' freshripe',' ripe', ' overripe',' rotten']\n",
        "lr1 = 3e-4\n",
        "lr2 = 1e-5"
      ]
    },
    {
      "cell_type": "code",
      "execution_count": null,
      "metadata": {
        "id": "1foT2bi6Smy5"
      },
      "outputs": [],
      "source": [
        "# Download and unzip dataset\n",
        "!apt install gdown\n",
        "!apt install unzip\n",
        "\n",
        "!gdown 1JVzFkM7aVuMBKbNwloqYUC3a0gcrYpr7 # unbalanced dataset\n",
        "!unzip banana_data.zip\n",
        "ds = 'banana_data copy'\n",
        "\n",
        "# !gdown 1lOUtrLT0LafkUaqxClE1sgyQ4Pu8MuvV # balanced dataset\n",
        "# !unzip avg_ds.zip\n",
        "# ds = 'avg_ds'\n",
        "\n",
        "# !gdown 1r7aPqRkU0OTKjrjMiQOdBj-FfJHHJHQB # small dataset for developing\n",
        "# !unzip dev_ds.zip\n",
        "# ds = 'dev_ds'"
      ]
    },
    {
      "cell_type": "code",
      "execution_count": null,
      "metadata": {
        "colab": {
          "base_uri": "https://localhost:8080/"
        },
        "id": "FMTgCiMuRzbT",
        "outputId": "964bf6e7-a1b3-4de8-d5a5-b2c64a2ac9fb"
      },
      "outputs": [
        {
          "output_type": "stream",
          "name": "stdout",
          "text": [
            "Found 19926 images belonging to 6 classes.\n",
            "Found 1902 images belonging to 6 classes.\n",
            "Found 944 images belonging to 6 classes.\n"
          ]
        }
      ],
      "source": [
        "# Preprocess data\n",
        "# A DirectoryIterator yielding tuples of (x, y) where x is a numpy array containing \n",
        "# a batch of images with shape (batch_size, *target_size, channels) and y is a numpy array of corresponding labels.\n",
        "\n",
        "train_datagen=ImageDataGenerator(preprocessing_function=preprocess_input) # Shuffled\n",
        "train_generator=train_datagen.flow_from_directory('/content/'+ds+'/train', target_size=(224,224), color_mode='rgb', classes = CLASSES, batch_size=32, class_mode='categorical', shuffle=True)  # train\n",
        "\n",
        "valid_datagen=ImageDataGenerator(preprocessing_function=preprocess_input) # No shuffle, no data augmentation\n",
        "valid_generator=train_datagen.flow_from_directory('/content/'+ds+'/valid', target_size=(224,224), color_mode='rgb', classes = CLASSES, batch_size=32, class_mode='categorical', shuffle=False)  # valid\n",
        "\n",
        "test_datagen=ImageDataGenerator(preprocessing_function=preprocess_input) # No shuffle, no data augmentation\n",
        "test_generator=train_datagen.flow_from_directory('/content/'+ds+'/test', target_size=(224,224), color_mode='rgb', classes = CLASSES, batch_size=32,  class_mode='categorical', shuffle=False)  # test"
      ]
    },
    {
      "cell_type": "code",
      "execution_count": null,
      "metadata": {
        "colab": {
          "base_uri": "https://localhost:8080/"
        },
        "id": "Ukh2NhL7BXVC",
        "outputId": "d8e19951-47e8-41e9-aa38-c4b48efcba63"
      },
      "outputs": [
        {
          "output_type": "stream",
          "name": "stderr",
          "text": [
            "WARNING:tensorflow:`input_shape` is undefined or non-square, or `rows` is not in [96, 128, 160, 192, 224]. Weights for input shape (224, 224) will be loaded as the default.\n"
          ]
        },
        {
          "output_type": "stream",
          "name": "stdout",
          "text": [
            "Downloading data from https://storage.googleapis.com/tensorflow/keras-applications/mobilenet_v2/mobilenet_v2_weights_tf_dim_ordering_tf_kernels_1.0_224_no_top.h5\n",
            "9412608/9406464 [==============================] - 0s 0us/step\n",
            "9420800/9406464 [==============================] - 0s 0us/step\n"
          ]
        }
      ],
      "source": [
        "# Build the model\n",
        "base_model=MobileNetV2(weights='imagenet',include_top=False) #imports the mobilenet model and discards the last 1000 neuron layer.\n",
        "\n",
        "x=base_model.output\n",
        "x=GlobalAveragePooling2D()(x)\n",
        "x=Dense(1024,activation='relu')(x) #we add dense layers so that the model can learn more complex functions and classify for better results.\n",
        "x=Dense(1024,activation='relu')(x) #dense layer 2\n",
        "x=Dense(512,activation='relu')(x) #dense layer 3\n",
        "preds=Dense(len(CLASSES),activation='softmax')(x) #final layer with softmax activation\n",
        "\n",
        "model=Model(inputs=base_model.input,outputs=preds)\n",
        "#specify the inputs\n",
        "#specify the outputs\n",
        "#now a model has been created based on our architecture\n",
        "\n",
        "for layer in model.layers[:20]:\n",
        "    layer.trainable=False\n",
        "for layer in model.layers[20:]:\n",
        "    layer.trainable=True\n",
        "\n",
        "model.compile(optimizer=Adam(lr1),loss='categorical_crossentropy',metrics=['accuracy'])\n",
        "# Adam optimizer\n",
        "# loss function will be categorical cross entropy\n",
        "# evaluation metric will be accuracy"
      ]
    },
    {
      "cell_type": "code",
      "source": [
        "# Evalutae raw model\n",
        "score = model.evaluate(test_generator)"
      ],
      "metadata": {
        "id": "YutALPmPnrCh",
        "colab": {
          "base_uri": "https://localhost:8080/"
        },
        "outputId": "65e2b0a6-463a-441d-c409-f4e25785f267"
      },
      "execution_count": null,
      "outputs": [
        {
          "output_type": "stream",
          "name": "stdout",
          "text": [
            "30/30 [==============================] - 17s 184ms/step - loss: 1.7946 - accuracy: 0.2309\n"
          ]
        }
      ]
    },
    {
      "cell_type": "code",
      "source": [
        "from sklearn.utils import class_weight \n",
        "class_weights = class_weight.compute_class_weight('balanced', classes = np.unique(train_generator.classes), y = np.ravel(train_generator.classes))\n",
        "train_class_weights = dict(enumerate(class_weights))"
      ],
      "metadata": {
        "id": "3l9QYE8l2ykY"
      },
      "execution_count": null,
      "outputs": []
    },
    {
      "cell_type": "code",
      "execution_count": null,
      "metadata": {
        "id": "Pm5c9-zpFjvF"
      },
      "outputs": [],
      "source": [
        "# Train the model\n",
        "\n",
        "hist = model.fit(train_generator, epochs=50, validation_data=valid_generator, class_weight = train_class_weights)\n",
        "\n",
        "def plot(hs): \n",
        "  # Plot accuracy\n",
        "    plt.plot(hs.history['accuracy'])\n",
        "    plt.plot(hs.history['val_accuracy'])\n",
        "    plt.title('Model accuracy')\n",
        "    plt.ylabel('Accuracy')\n",
        "    plt.xlabel('Epoch')\n",
        "    plt.legend(['Train', 'Val'], loc='upper left')\n",
        "    plt.show()\n",
        "\n",
        "    # Plot loss\n",
        "    plt.plot(hs.history['loss'])\n",
        "    plt.plot(hs.history['val_loss'])\n",
        "    plt.title('Model loss')\n",
        "    plt.ylabel('Loss')\n",
        "    plt.xlabel('Epoch')\n",
        "    plt.legend(['Train', 'Val'], loc='upper right')\n",
        "    plt.show()\n",
        "\n",
        "plot(hist)"
      ]
    },
    {
      "cell_type": "code",
      "execution_count": null,
      "metadata": {
        "id": "J_p-YY6eFp3C"
      },
      "outputs": [],
      "source": [
        "# Fine tuning the model\n",
        "base_model.trainable = True\n",
        "\n",
        "model.compile(optimizer=Adam(lr2), loss='categorical_crossentropy', metrics=['accuracy']) # slow learning rate\n",
        "\n",
        "hist = model.fit(train_generator, epochs=30, validation_data=valid_generator)\n",
        "plot(hist)"
      ]
    },
    {
      "cell_type": "code",
      "execution_count": null,
      "metadata": {
        "id": "EZ3oA38tF7Uf"
      },
      "outputs": [],
      "source": [
        "# Save model with h5 format\n",
        "model.save('/content/model_balancingWeights.h5')  "
      ]
    },
    {
      "cell_type": "code",
      "execution_count": null,
      "metadata": {
        "id": "mniF-A47F9QK",
        "colab": {
          "base_uri": "https://localhost:8080/"
        },
        "outputId": "2fdf04f8-b629-4c1b-d3db-b605bf4a0e64"
      },
      "outputs": [
        {
          "output_type": "stream",
          "name": "stdout",
          "text": [
            "30/30 [==============================] - 3s 113ms/step - loss: 0.7128 - accuracy: 0.7701\n"
          ]
        }
      ],
      "source": [
        "# Test the model\n",
        "score = model.evaluate(test_generator)"
      ]
    },
    {
      "cell_type": "code",
      "source": [
        "# Save model to gdrive\n",
        "# from google.colab import drive\n",
        "# drive.mount('/content/drive')\n",
        "# !cp -r '/content/model.h5' /content/drive/MyDrive/banana_model"
      ],
      "metadata": {
        "id": "_lSMLaTyo-s7"
      },
      "execution_count": null,
      "outputs": []
    },
    {
      "cell_type": "code",
      "source": [
        "labels = test_generator.classes\n",
        "preds = model.predict(test_generator)\n",
        "pred_labels = [np.argmax(elem) for elem in preds]\n",
        "\n",
        "correct_preds = 0\n",
        "for i in range(labels.size):\n",
        "  if labels[i] == pred_labels[i]:\n",
        "    correct_preds+=1\n",
        "acc = correct_preds / labels.size\n",
        "print(correct_preds)\n",
        "print(labels.size)\n",
        "print(acc)\n",
        "\n",
        "from sklearn.metrics import classification_report\n",
        "print(classification_report(labels, pred_labels, target_names=CLASSES))"
      ],
      "metadata": {
        "colab": {
          "base_uri": "https://localhost:8080/"
        },
        "id": "3mGUSm-7vwU6",
        "outputId": "779d2720-eb4e-410a-ca92-81f6cfe5b59c"
      },
      "execution_count": null,
      "outputs": [
        {
          "output_type": "stream",
          "name": "stdout",
          "text": [
            "727\n",
            "944\n",
            "0.7701271186440678\n",
            "              precision    recall  f1-score   support\n",
            "\n",
            "      unripe       0.76      0.66      0.71        77\n",
            " freshunripe       0.92      0.99      0.95        99\n",
            "   freshripe       0.81      0.88      0.84       130\n",
            "        ripe       0.80      0.69      0.74       205\n",
            "    overripe       0.63      0.88      0.73       145\n",
            "      rotten       0.78      0.68      0.72       288\n",
            "\n",
            "    accuracy                           0.77       944\n",
            "   macro avg       0.78      0.80      0.78       944\n",
            "weighted avg       0.78      0.77      0.77       944\n",
            "\n"
          ]
        }
      ]
    }
  ],
  "metadata": {
    "colab": {
      "collapsed_sections": [],
      "provenance": [],
      "include_colab_link": true
    },
    "gpuClass": "standard",
    "kernelspec": {
      "display_name": "Python 3",
      "name": "python3"
    },
    "language_info": {
      "name": "python"
    },
    "accelerator": "GPU"
  },
  "nbformat": 4,
  "nbformat_minor": 0
}